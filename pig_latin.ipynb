{
  "nbformat": 4,
  "nbformat_minor": 0,
  "metadata": {
    "colab": {
      "name": "pig_latin.ipynb",
      "provenance": [],
      "authorship_tag": "ABX9TyOIHe2IQ3CDyeyTaI1sxX2R",
      "include_colab_link": true
    },
    "kernelspec": {
      "name": "python3",
      "display_name": "Python 3"
    },
    "language_info": {
      "name": "python"
    }
  },
  "cells": [
    {
      "cell_type": "markdown",
      "metadata": {
        "id": "view-in-github",
        "colab_type": "text"
      },
      "source": [
        "<a href=\"https://colab.research.google.com/github/vishnuvardhan-jadava/MySpace/blob/main/pig_latin.ipynb\" target=\"_parent\"><img src=\"https://colab.research.google.com/assets/colab-badge.svg\" alt=\"Open In Colab\"/></a>"
      ]
    },
    {
      "cell_type": "code",
      "metadata": {
        "id": "vwQn2Y6PM-ht",
        "colab": {
          "base_uri": "https://localhost:8080/"
        },
        "outputId": "f6bb08e0-2882-40f7-e363-652f8e37c1f9"
      },
      "source": [
        "def is_vowel(c):\n",
        "    \"\"\"returns True if the given character is VOWEL\"\"\"\n",
        "    vow = ['a','e','i','o','u']\n",
        "    if c in vow:\n",
        "        return True\n",
        "\n",
        "\n",
        "def pig_latin(s):\n",
        "    \"\"\"this function returns the piglatin word of the given word\"\"\"\n",
        "    if is_vowel(s[0]):\n",
        "        print(s+'-yay')\n",
        "    else:\n",
        "        for i in range(len(s)):\n",
        "            if is_vowel(s[i]):\n",
        "                print(s[i:]+'-'+s[0:i]+'ay')\n",
        "                break\n",
        "s='hello'\n",
        "pig_latin(s)"
      ],
      "execution_count": 1,
      "outputs": [
        {
          "output_type": "stream",
          "text": [
            "ello-hay\n"
          ],
          "name": "stdout"
        }
      ]
    }
  ]
}