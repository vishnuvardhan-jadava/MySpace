{
  "nbformat": 4,
  "nbformat_minor": 0,
  "metadata": {
    "colab": {
      "name": "pig_latin.ipynb",
      "provenance": [],
      "authorship_tag": "ABX9TyMz4Rd191+ckBiRbVgIwXpC",
      "include_colab_link": true
    },
    "kernelspec": {
      "name": "python3",
      "display_name": "Python 3"
    },
    "language_info": {
      "name": "python"
    }
  },
  "cells": [
    {
      "cell_type": "markdown",
      "metadata": {
        "id": "view-in-github",
        "colab_type": "text"
      },
      "source": [
        "<a href=\"https://colab.research.google.com/github/vishnuvardhan-jadava/MySpace/blob/main/pig_latin.ipynb\" target=\"_parent\"><img src=\"https://colab.research.google.com/assets/colab-badge.svg\" alt=\"Open In Colab\"/></a>"
      ]
    },
    {
      "cell_type": "code",
      "metadata": {
        "id": "vwQn2Y6PM-ht",
        "colab": {
          "base_uri": "https://localhost:8080/"
        },
        "outputId": "f6bb08e0-2882-40f7-e363-652f8e37c1f9"
      },
      "source": [
        "def is_vowel(c):\n",
        "    \"\"\"returns True if the given character is VOWEL\"\"\"\n",
        "    vow = ['a','e','i','o','u']\n",
        "    if c in vow:\n",
        "        return True\n",
        "\n",
        "\n",
        "def pig_latin(s):\n",
        "    \"\"\"this function returns the piglatin word of the given word\"\"\"\n",
        "    if is_vowel(s[0]):\n",
        "        print(s+'-yay')\n",
        "    else:\n",
        "        for i in range(len(s)):\n",
        "            if is_vowel(s[i]):\n",
        "                print(s[i:]+'-'+s[0:i]+'ay')\n",
        "                break\n",
        "s='hello'\n",
        "pig_latin(s)"
      ],
      "execution_count": null,
      "outputs": [
        {
          "output_type": "stream",
          "text": [
            "ello-hay\n"
          ],
          "name": "stdout"
        }
      ]
    },
    {
      "cell_type": "markdown",
      "metadata": {
        "id": "kN6g_WxyJJON"
      },
      "source": [
        "\n",
        "1. Simplified Pig Latin \n",
        "Pig Latin is a pseudo-language or ALL language game used by young children as a fun way to confuse people unfamiliar with Pig Latin. In this game 0 English words are altered, usually by adding a fabricated suffix or by moving the onset or initial consonant or consonant cluster of a word to the end of the word and adding a vocalic syllable to create such a suffix. \n",
        "\n",
        "Rulel: Words beginning with consonants. To form Pig Latin words from words beginning with a consonant (like hello) or a consonant cluster (like switch), simply move the consonant or consonant cluster from the start of the word to the end of the word. Then add the suffix \"-ay\" to the end of the word. Here from hello h is moved to the end and av is added after that. . Type here to search \n",
        "\n",
        "16 11 12 13 14 15 16 17 \n",
        "Test \n",
        "11 \n"
      ]
    },
    {
      "cell_type": "markdown",
      "metadata": {
        "id": "ySBFlcXGJtfD"
      },
      "source": [
        "if a word starts with VOWE"
      ]
    }
  ]
}