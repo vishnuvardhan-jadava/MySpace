{
  "nbformat": 4,
  "nbformat_minor": 0,
  "metadata": {
    "colab": {
      "name": "find_peak.ipynb",
      "provenance": [],
      "authorship_tag": "ABX9TyMZtt/TvRfERV1TIeD8YIgl",
      "include_colab_link": true
    },
    "kernelspec": {
      "name": "python3",
      "display_name": "Python 3"
    },
    "language_info": {
      "name": "python"
    }
  },
  "cells": [
    {
      "cell_type": "markdown",
      "metadata": {
        "id": "view-in-github",
        "colab_type": "text"
      },
      "source": [
        "<a href=\"https://colab.research.google.com/github/vishnuvardhan-jadava/MySpace/blob/main/find_peak.ipynb\" target=\"_parent\"><img src=\"https://colab.research.google.com/assets/colab-badge.svg\" alt=\"Open In Colab\"/></a>"
      ]
    },
    {
      "cell_type": "markdown",
      "metadata": {
        "id": "TWotlHmcgMHl"
      },
      "source": [
        "#PEAK FINDER returns the peak of in the fiven list"
      ]
    },
    {
      "cell_type": "code",
      "metadata": {
        "colab": {
          "base_uri": "https://localhost:8080/"
        },
        "id": "YB2Sp4HXa1jG",
        "outputId": "6c11c042-d94b-467c-c804-29e1b78023ca"
      },
      "source": [
        "def find_peak(li):\n",
        "    ''' this function takes list as an input and returns all the peaks in it'''\n",
        "    c=[]\n",
        "    for i in range(len(li)):\n",
        "        if ((i ==0) and (li[i]>li[i+1])):\n",
        "            c.append(li[i])\n",
        "        elif i ==(len(li)-1) and (li[i]>li[i-1]):\n",
        "            c.append(li[i])\n",
        "        elif (li[i]>li[i-1]) and (li[i]>li[i+1]):\n",
        "            c.append(li[i])\n",
        "    return c\n",
        "d=[4,3,4,8,7,6,4,5,10,11]\n",
        "find_peak(d)"
      ],
      "execution_count": 5,
      "outputs": [
        {
          "output_type": "execute_result",
          "data": {
            "text/plain": [
              "[4, 8, 11]"
            ]
          },
          "metadata": {
            "tags": []
          },
          "execution_count": 5
        }
      ]
    },
    {
      "cell_type": "code",
      "metadata": {
        "id": "jIUrLDFygdun"
      },
      "source": [
        "import matplotlib.pyplot as plt\n",
        "%matplotlib inline"
      ],
      "execution_count": 4,
      "outputs": []
    },
    {
      "cell_type": "code",
      "metadata": {
        "colab": {
          "base_uri": "https://localhost:8080/",
          "height": 265
        },
        "id": "5dWNt7uRgkmW",
        "outputId": "d5177eb5-e032-4462-ea07-0ce5e6cf6d8e"
      },
      "source": [
        "plt.plot(d)\n",
        "plt.show()"
      ],
      "execution_count": 7,
      "outputs": [
        {
          "output_type": "display_data",
          "data": {
            "image/png": "[encoded data removed]",
            "text/plain": [
              "<Figure size 432x288 with 1 Axes>"
            ]
          },
          "metadata": {
            "tags": [],
            "needs_background": "light"
          }
        }
      ]
    }
  ]
}