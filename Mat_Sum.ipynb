{
  "nbformat": 4,
  "nbformat_minor": 0,
  "metadata": {
    "kernelspec": {
      "display_name": "Python 3",
      "language": "python",
      "name": "python3"
    },
    "language_info": {
      "codemirror_mode": {
        "name": "ipython",
        "version": 3
      },
      "file_extension": ".py",
      "mimetype": "text/x-python",
      "name": "python",
      "nbconvert_exporter": "python",
      "pygments_lexer": "ipython3",
      "version": "3.8.3"
    },
    "colab": {
      "name": "Mat_Sum.ipynb",
      "provenance": [],
      "include_colab_link": true
    }
  },
  "cells": [
    {
      "cell_type": "markdown",
      "metadata": {
        "id": "view-in-github",
        "colab_type": "text"
      },
      "source": [
        "<a href=\"https://colab.research.google.com/github/vishnuvardhan-jadava/MySpace/blob/main/Mat_Sum.ipynb\" target=\"_parent\"><img src=\"https://colab.research.google.com/assets/colab-badge.svg\" alt=\"Open In Colab\"/></a>"
      ]
    },
    {
      "cell_type": "markdown",
      "metadata": {
        "id": "MGR5wBDimZwW"
      },
      "source": [
        "#function mat_sum that takes two matrices as input and returns the sum of them"
      ]
    },
    {
      "cell_type": "code",
      "metadata": {
        "colab": {
          "base_uri": "https://localhost:8080/",
          "height": 35
        },
        "id": "lHYpi_WimWXZ",
        "outputId": "c34cf69a-2e91-49ff-b14b-65b7a717f387"
      },
      "source": [
        "import numpy as np\n",
        "def mat_sum(a,b):\n",
        "    '''takes two matrices as input and returns the sum of them'''\n",
        "    m1,n1=a.shape\n",
        "    m2,n2 =b.shape\n",
        "    if (m1 != m2) | (n1!=n2):\n",
        "        return 'wrong dimentions'\n",
        "    else:\n",
        "        c=np.zeros((m1,n1))\n",
        "        for i in range(m1):\n",
        "            for j in range(n1):\n",
        "                c[i][j]=a[i][j]+b[i][j]\n",
        "        return c\n",
        "\n",
        "m1 = np.random.rand(5,3)\n",
        "m2 = np.random.rand(5,4)\n",
        "\n",
        "mat_sum(m1,m2)"
      ],
      "execution_count": 10,
      "outputs": [
        {
          "output_type": "execute_result",
          "data": {
            "application/vnd.google.colaboratory.intrinsic+json": {
              "type": "string"
            },
            "text/plain": [
              "'wrong dimentions'"
            ]
          },
          "metadata": {
            "tags": []
          },
          "execution_count": 10
        }
      ]
    },
    {
      "cell_type": "code",
      "metadata": {
        "colab": {
          "base_uri": "https://localhost:8080/",
          "height": 35
        },
        "id": "Rup51B5InNGj",
        "outputId": "e7c49ebe-66b9-4719-839f-8c4ff3e01e52"
      },
      "source": [
        "mat_sum.__doc__"
      ],
      "execution_count": 11,
      "outputs": [
        {
          "output_type": "execute_result",
          "data": {
            "application/vnd.google.colaboratory.intrinsic+json": {
              "type": "string"
            },
            "text/plain": [
              "'takes two matrices as input and returns the sum of them'"
            ]
          },
          "metadata": {
            "tags": []
          },
          "execution_count": 11
        }
      ]
    },
    {
      "cell_type": "code",
      "metadata": {
        "id": "ggtMMQLDnZPl"
      },
      "source": [
        ""
      ],
      "execution_count": null,
      "outputs": []
    }
  ]
}