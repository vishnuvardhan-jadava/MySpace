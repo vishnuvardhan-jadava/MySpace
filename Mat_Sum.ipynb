{
  "nbformat": 4,
  "nbformat_minor": 0,
  "metadata": {
    "kernelspec": {
      "display_name": "Python 3",
      "language": "python",
      "name": "python3"
    },
    "language_info": {
      "codemirror_mode": {
        "name": "ipython",
        "version": 3
      },
      "file_extension": ".py",
      "mimetype": "text/x-python",
      "name": "python",
      "nbconvert_exporter": "python",
      "pygments_lexer": "ipython3",
      "version": "3.8.3"
    },
    "colab": {
      "name": "Mat_Sum.ipynb",
      "provenance": [],
      "include_colab_link": true
    }
  },
  "cells": [
    {
      "cell_type": "markdown",
      "metadata": {
        "id": "view-in-github",
        "colab_type": "text"
      },
      "source": [
        "<a href=\"https://colab.research.google.com/github/vishnuvardhan-jadava/MySpace/blob/main/Mat_Sum.ipynb\" target=\"_parent\"><img src=\"https://colab.research.google.com/assets/colab-badge.svg\" alt=\"Open In Colab\"/></a>"
      ]
    },
    {
      "cell_type": "markdown",
      "metadata": {
        "id": "MGR5wBDimZwW"
      },
      "source": [
        "#function mat_sum that takes two matrices as input and returns the sum of them"
      ]
    },
    {
      "cell_type": "code",
      "metadata": {
        "colab": {
          "base_uri": "https://localhost:8080/"
        },
        "id": "lHYpi_WimWXZ",
        "outputId": "bd6c97d1-6276-43ea-b3ca-aba80291da8f"
      },
      "source": [
        "import numpy as np\n",
        "def mat_sum(a,b):\n",
        "    '''takes two matrices as input and returns the sum of them'''\n",
        "    m1,n1=a.shape\n",
        "    m2,n2 =b.shape\n",
        "    if (m1 != m2) | (n1!=n2):\n",
        "        return 'wrong dimentions'\n",
        "    else:\n",
        "        c=np.zeros((m1,n1))\n",
        "        for i in range(m1):\n",
        "            for j in range(n1):\n",
        "                c[i][j]=a[i][j]+b[i][j]\n",
        "        return c\n",
        "\n",
        "m1 = np.random.rand(5,4)\n",
        "m2 = np.random.rand(5,4)\n",
        "\n",
        "mat_sum(m1,m2)"
      ],
      "execution_count": 2,
      "outputs": [
        {
          "output_type": "execute_result",
          "data": {
            "text/plain": [
              "array([[1.53258913, 1.28590377, 0.41020812, 0.88436001],\n",
              "       [1.63690511, 0.94150729, 0.99193717, 1.76321864],\n",
              "       [1.82452491, 0.79772149, 0.3342039 , 0.65207409],\n",
              "       [0.72948762, 0.43869617, 0.90817594, 1.00862277],\n",
              "       [1.29259422, 1.19555368, 1.09956627, 1.28750679]])"
            ]
          },
          "metadata": {
            "tags": []
          },
          "execution_count": 2
        }
      ]
    }
  ]
}