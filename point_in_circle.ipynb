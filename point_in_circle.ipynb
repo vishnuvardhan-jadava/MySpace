{
  "nbformat": 4,
  "nbformat_minor": 0,
  "metadata": {
    "colab": {
      "name": "point_in_circle.ipynb",
      "provenance": [],
      "authorship_tag": "ABX9TyP1qZeG9aeANp4v+Tw0OuSE",
      "include_colab_link": true
    },
    "kernelspec": {
      "name": "python3",
      "display_name": "Python 3"
    },
    "language_info": {
      "name": "python"
    }
  },
  "cells": [
    {
      "cell_type": "markdown",
      "metadata": {
        "id": "view-in-github",
        "colab_type": "text"
      },
      "source": [
        "<a href=\"https://colab.research.google.com/github/vishnuvardhan-jadava/MySpace/blob/main/point_in_circle.ipynb\" target=\"_parent\"><img src=\"https://colab.research.google.com/assets/colab-badge.svg\" alt=\"Open In Colab\"/></a>"
      ]
    },
    {
      "cell_type": "markdown",
      "metadata": {
        "id": "mB8aXBvPz7uI"
      },
      "source": [
        "function that returns whether a given point is inside or outside the circle "
      ]
    },
    {
      "cell_type": "code",
      "metadata": {
        "colab": {
          "base_uri": "https://localhost:8080/",
          "height": 35
        },
        "id": "UPSuV5baw5pi",
        "outputId": "0fa1a42b-09c4-42ab-9a1e-f95152406a46"
      },
      "source": [
        "import math\n",
        "def point_in_circle(c1,c2,r,x1,x2):\n",
        "  '''takes input in the format c1(circle index 1), c2(circle index 2), r, x1(point index 1), x2(point index 2)\n",
        "  and returns whether a given point is inside or outside the circle'''\n",
        "  return 'inside' if (math.sqrt((c1-x1)**2 + (c2-x2)**2)) < r else 'outside'\n",
        "\n",
        "point_in_circle(0,0,5,4,4)\n"
      ],
      "execution_count": 19,
      "outputs": [
        {
          "output_type": "execute_result",
          "data": {
            "application/vnd.google.colaboratory.intrinsic+json": {
              "type": "string"
            },
            "text/plain": [
              "'outside'"
            ]
          },
          "metadata": {
            "tags": []
          },
          "execution_count": 19
        }
      ]
    }
  ]
}